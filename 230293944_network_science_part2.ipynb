{
 "cells": [
  {
   "cell_type": "code",
   "execution_count": 1,
   "id": "fdde7bcf",
   "metadata": {},
   "outputs": [],
   "source": [
    "import pandas as pd\n",
    "import csv\n",
    "import networkx as nx\n",
    "import numpy as np\n",
    "import matplotlib.pyplot as plt\n",
    "import community\n",
    "\n",
    "seed_value = 230293944"
   ]
  },
  {
   "cell_type": "code",
   "execution_count": 2,
   "id": "0d720219",
   "metadata": {},
   "outputs": [],
   "source": [
    "colnames=['Source', 'Target', 'Rating', 'Time'] \n",
    "df = pd.read_csv('C:/Users/DELL/Downloads/soc-sign-bitcoinalpha.csv',names = colnames, header=None)\n",
    "\n",
    "G = nx.from_pandas_edgelist(df, source='Source', target='Target')\n"
   ]
  },
  {
   "cell_type": "markdown",
   "id": "88def3d0",
   "metadata": {},
   "source": [
    "### a) (5 marks) Find the best division in communities of your network using both Louvain and the Greedy algorithm. Decide which one is better, explain why and relate the result to the nature of the network.\n"
   ]
  },
  {
   "cell_type": "code",
   "execution_count": 3,
   "id": "4179730d",
   "metadata": {},
   "outputs": [
    {
     "name": "stdout",
     "output_type": "stream",
     "text": [
      "Total Number of Communities: 19\n"
     ]
    }
   ],
   "source": [
    "from community import best_partition\n",
    "\n",
    "seed_value = 230293944\n",
    "\n",
    "# Louvain algorithm\n",
    "louvain_partition = best_partition(G, random_state=seed_value)\n",
    "\n",
    "# Dictionary to store communities\n",
    "communities = {community_id: [] for community_id in set(louvain_partition.values())}\n",
    "\n",
    "for node, community_id in louvain_partition.items():\n",
    "    communities[community_id].append(node)\n",
    "\n",
    "print(f\"Total Number of Communities: {len(communities)}\")\n"
   ]
  },
  {
   "cell_type": "code",
   "execution_count": 4,
   "id": "a1898f4c",
   "metadata": {},
   "outputs": [
    {
     "name": "stdout",
     "output_type": "stream",
     "text": [
      "Total number of communities (Greedy): 42\n"
     ]
    }
   ],
   "source": [
    "from networkx.algorithms.community import greedy_modularity_communities\n",
    "\n",
    "# Greedy algorithm\n",
    "greedy_communities = list(greedy_modularity_communities(G))\n",
    "\n",
    "greedy_partition = {node: cid for cid, nodes in enumerate(greedy_communities) for node in nodes}\n",
    "total_communities_greedy = len(greedy_communities)\n",
    "print(f\"Total number of communities (Greedy): {total_communities_greedy}\")"
   ]
  },
  {
   "cell_type": "code",
   "execution_count": 5,
   "id": "ebbc429d",
   "metadata": {},
   "outputs": [
    {
     "name": "stdout",
     "output_type": "stream",
     "text": [
      "Modularity (Louvain): 0.45532249870287533\n",
      "Modularity (Greedy): 0.4346528875090322\n"
     ]
    }
   ],
   "source": [
    "# Calculating Modularity for both algorithms for comparision \n",
    "modularity_louvain = community.modularity(louvain_partition, G)\n",
    "print(f\"Modularity (Louvain): {modularity_louvain}\")\n",
    "\n",
    "modularity_greedy = community.modularity(greedy_partition, G)\n",
    "print(f\"Modularity (Greedy): {modularity_greedy}\")"
   ]
  },
  {
   "cell_type": "markdown",
   "id": "111b3dee",
   "metadata": {},
   "source": [
    "Here, we can observe that that modulartiy of louvain algorithm is higher as compare to greedy algorithm. And higher the modularity, better it is distributed.\n",
    "Modularity = Modularity is a concept in network theory that measures the strength of division of a network into modules (or communities). Modularity is scalar value between -1 to 1 that quantifies the quality of network divisions.\n",
    "$$\n",
    "Modularity = (A_{ij} − k_ik_j)/2m\n",
    "$$\n",
    "\n",
    "In above program, we can observe that louvain have more dense connection between the nodes as compare to greedy algorithms.\n",
    "Therefore Louvain algorithms is better."
   ]
  },
  {
   "cell_type": "markdown",
   "id": "5b27ded6",
   "metadata": {},
   "source": [
    "### b) (10 marks) Run the forest fire basic model with 𝑝 = 𝑓 = 0 on the given network according to the following instructions:• Generate one initial configuration in which each site has a probability 0.4 of having a tree. You will use this same initial configuration in all your simulations.  • Start the fire on different communities each time according to the best partition of all thatyou obtained in the previous item (remember that fires can only start on trees, not empty sites).  • Calculate the average number of burnt trees over 50 simulations for each different starting community. Based on your results, if you only had resources to prevent fire on about 1/3 of the communities,which ones should be prioritised? Explain your reasoning.\n"
   ]
  },
  {
   "cell_type": "code",
   "execution_count": 6,
   "id": "afc6fbb6",
   "metadata": {},
   "outputs": [
    {
     "name": "stdout",
     "output_type": "stream",
     "text": [
      "Community 0, Average Burnt Trees: 17.469473684210527\n",
      "Community 1, Average Burnt Trees: 32.83052631578948\n",
      "Community 2, Average Burnt Trees: 0.0\n",
      "Community 3, Average Burnt Trees: 41.02105263157895\n",
      "Community 4, Average Burnt Trees: 34.87789473684211\n",
      "Community 5, Average Burnt Trees: 33.85263157894737\n",
      "Community 6, Average Burnt Trees: 37.949473684210524\n",
      "Community 7, Average Burnt Trees: 34.88\n",
      "Community 8, Average Burnt Trees: 50.23894736842105\n",
      "Community 9, Average Burnt Trees: 37.94842105263158\n",
      "Community 10, Average Burnt Trees: 51.26315789473684\n",
      "Community 11, Average Burnt Trees: 21.57578947368421\n",
      "Community 12, Average Burnt Trees: 0.0\n",
      "Community 13, Average Burnt Trees: 28.73578947368421\n",
      "Community 14, Average Burnt Trees: 51.26315789473684\n",
      "Community 15, Average Burnt Trees: 0.05263157894736842\n",
      "Community 16, Average Burnt Trees: 0.05263157894736842\n",
      "Community 17, Average Burnt Trees: 0.0\n",
      "Community 18, Average Burnt Trees: 0.05263157894736842\n"
     ]
    }
   ],
   "source": [
    "import random\n",
    "\n",
    "np.random.seed(230293944)\n",
    "random.seed(230293944)\n",
    "\n",
    "G = nx.from_pandas_edgelist(df, source='Source', target='Target')\n",
    "\n",
    "# Set the probability of having a tree\n",
    "tree_probability = 0.4\n",
    "\n",
    "# Generate the initial configuration\n",
    "initial_configuration = np.random.choice([0, 1], size=len(G.nodes), p=[1 - tree_probability, tree_probability])\n",
    "\n",
    "# Assign the initial configuration to the node attributes in the graph\n",
    "for i, node in enumerate(G.nodes):\n",
    "    G.nodes[node]['tree'] = initial_configuration[i]\n",
    "\n",
    "# Use Louvain algorithm for community detection\n",
    "louvain_partition = best_partition(G, random_state = 230293944)  # Use the same random seed for Louvain\n",
    "\n",
    "# Number of simulations\n",
    "num_simulations = 50\n",
    "\n",
    "# List to store the results for each community\n",
    "average_burnt_trees_per_community = []\n",
    "\n",
    "# Run simulations for each community\n",
    "for community_id in set(louvain_partition.values()):\n",
    "    community_nodes = [node for node, comm_id in louvain_partition.items() if comm_id == community_id and G.nodes[node]['tree'] == 1]\n",
    "    total_burnt_trees = 0\n",
    "\n",
    "    # Run simulations for each community multiple times\n",
    "    for _ in range(num_simulations):\n",
    "        # Reset the graph to the initial configuration\n",
    "        G_copy = G.copy()\n",
    "        for node in G_copy.nodes:\n",
    "            G_copy.nodes[node]['burning'] = 0\n",
    "\n",
    "        # Start the fire in the current community on a random tree\n",
    "        if community_nodes:\n",
    "            start_node = random.choice(community_nodes)\n",
    "            G_copy.nodes[start_node]['burning'] = 1\n",
    "\n",
    "            # Forest fire model logic\n",
    "            while any(G_copy.nodes[node]['burning'] == 1 for node in G_copy.nodes):\n",
    "                for node in G_copy.nodes:\n",
    "                    if G_copy.nodes[node]['burning'] == 1:\n",
    "                        neighbors = list(G_copy.neighbors(node))\n",
    "                        for neighbor in neighbors:\n",
    "                            if G_copy.nodes[neighbor]['tree'] == 1 and G_copy.nodes[neighbor]['burning'] == 0:\n",
    "                                G_copy.nodes[neighbor]['burning'] = 1\n",
    "                        G_copy.nodes[node]['burning'] = 2\n",
    "\n",
    "        # Calculate the number of burnt trees after the simulation\n",
    "        burnt_trees = sum(1 for node_data in G_copy.nodes(data=True) if node_data[1]['burning'] == 2)\n",
    "        total_burnt_trees += burnt_trees\n",
    "\n",
    "    # Calculating the average number of burnt trees for the current community\n",
    "    average_burnt_trees = total_burnt_trees / (50*19)  # As we have 19 communities and 50 simulation\n",
    "    average_burnt_trees_per_community.append(average_burnt_trees)\n",
    "\n",
    "# Print or use the average_burnt_trees_per_community as needed\n",
    "for community_id, avg_burnt_trees in enumerate(average_burnt_trees_per_community):\n",
    "    print(f\"Community {community_id}, Average Burnt Trees: {avg_burnt_trees}\")\n"
   ]
  },
  {
   "cell_type": "code",
   "execution_count": 7,
   "id": "160eacad",
   "metadata": {},
   "outputs": [
    {
     "name": "stdout",
     "output_type": "stream",
     "text": [
      "\n",
      "Communities to prioritize for fire prevention (highest average burnt trees):\n",
      "Community 10: 51.26315789473684 average burnt trees\n",
      "Community 14: 51.26315789473684 average burnt trees\n",
      "Community 8: 50.23894736842105 average burnt trees\n",
      "Community 3: 41.02105263157895 average burnt trees\n",
      "Community 6: 37.949473684210524 average burnt trees\n",
      "Community 9: 37.94842105263158 average burnt trees\n",
      "Community 7: 34.88 average burnt trees\n",
      "Community 4: 34.87789473684211 average burnt trees\n",
      "Community 5: 33.85263157894737 average burnt trees\n",
      "Community 1: 32.83052631578948 average burnt trees\n",
      "Community 13: 28.73578947368421 average burnt trees\n",
      "Community 11: 21.57578947368421 average burnt trees\n",
      "Community 0: 17.469473684210527 average burnt trees\n",
      "Community 15: 0.05263157894736842 average burnt trees\n",
      "Community 16: 0.05263157894736842 average burnt trees\n",
      "Community 18: 0.05263157894736842 average burnt trees\n",
      "Community 2: 0.0 average burnt trees\n",
      "Community 12: 0.0 average burnt trees\n",
      "Community 17: 0.0 average burnt trees\n"
     ]
    }
   ],
   "source": [
    "num_communities_to_prevent = len(louvain_partition) // 3\n",
    "prevented_communities = sorted(enumerate(average_burnt_trees_per_community), key=lambda x: x[1], reverse=True)[:num_communities_to_prevent]\n",
    "\n",
    "print(f'\\nCommunities to prioritize for fire prevention (highest average burnt trees):')\n",
    "for i, (community_id, avg_burnt_trees) in enumerate(prevented_communities):\n",
    "    print(f'Community {community_id}: {avg_burnt_trees} average burnt trees')\n"
   ]
  },
  {
   "cell_type": "markdown",
   "id": "19114613",
   "metadata": {},
   "source": [
    "In order to save 1/3 of community, we can use 2 method which are as follow:\n",
    "1. Based on highest average burnt trees -  In this approach, we will pick those communities which have highest number of burnt trees. We first sort the communities according to the average number of burnt trees and select top one third of them so we will able to save 1/3 communities but also most trees will be save as few of those communities having more than 100 trees in each.\n",
    "\n",
    "2. Based on the density of trees in community - In this particular approach, we will save those communities who have highest density of having trees and follow same procedure of sorting based on their density and save top one third communities from there."
   ]
  },
  {
   "cell_type": "markdown",
   "id": "2054166c",
   "metadata": {},
   "source": [
    "### C) Consider a new state of the forest fire model represented by a grey node. This state does not change. In other words, fire cannot spread to it and trees cannot grow on it. All other rules remain the same. Assuming that grey nodes are randomly distributed on the network, what is the minimum fraction of the network that they have to occupy on average at the start of the fire in order to prevent it from spreading through the whole network? Use 𝑓 an 𝑝 as in the previous item and initial configurations where each site has a probability of 0.6 of having a tree. "
   ]
  },
  {
   "cell_type": "code",
   "execution_count": 8,
   "id": "f9b98fb5",
   "metadata": {},
   "outputs": [
    {
     "name": "stdout",
     "output_type": "stream",
     "text": [
      "Minimum fraction of grey nodes: 0.44\n"
     ]
    }
   ],
   "source": [
    "def generate_initial_configuration(graph, tree_probability):\n",
    "    size = len(graph.nodes)\n",
    "    return np.random.choice([0, 1], size=size, p=[1 - tree_probability, tree_probability])\n",
    "\n",
    "def spread_fire(graph, node, grid, grey_nodes):\n",
    "    neighbors = list(graph.neighbors(node))\n",
    "    for neighbor in neighbors:\n",
    "        if neighbor < len(grid) and grid[neighbor] == 1 and not grey_nodes[neighbor]:\n",
    "            grid[neighbor] = 2  # Mark the tree as burnt\n",
    "            spread_fire(graph, neighbor, grid, grey_nodes)\n",
    "\n",
    "def simulate_forest_fire(graph, tree_probability, grey_nodes_fraction, num_simulations):\n",
    "    size = len(graph.nodes)\n",
    "    total_burnt_trees = np.zeros(num_simulations)\n",
    "    total_grey_nodes = np.zeros(num_simulations)\n",
    "\n",
    "    for sim in range(num_simulations):\n",
    "        # Fixed tree probability\n",
    "        initial_configuration = generate_initial_configuration(graph, tree_probability)\n",
    "\n",
    "        # Random grey nodes fraction\n",
    "        grey_nodes = np.random.rand(size) < grey_nodes_fraction\n",
    "\n",
    "        # Copy the initial configuration to the grid\n",
    "        grid = np.copy(initial_configuration)\n",
    "\n",
    "        # Start fire in a random node\n",
    "        start_node = np.random.choice(list(graph.nodes))\n",
    "        if start_node < len(grid) and grid[start_node] == 1:  # Ensure the starting point has a tree\n",
    "            spread_fire(graph, start_node, grid, grey_nodes)\n",
    "\n",
    "        # Count burnt trees\n",
    "        burnt_trees = np.sum(grid == 2)\n",
    "        total_burnt_trees[sim] = burnt_trees\n",
    "\n",
    "        # Count grey nodes\n",
    "        total_grey_nodes[sim] = np.sum(grey_nodes)\n",
    "\n",
    "        # Count empty space\n",
    "        empty_space = size - np.sum(initial_configuration) - burnt_trees\n",
    "        if empty_space < 0:\n",
    "            #print(f\"Simulation {sim + 1} has negative empty space: {empty_space}\")\n",
    "\n",
    "            num_trees = np.sum(initial_configuration)\n",
    "            num_grey_nodes = np.sum(grey_nodes)\n",
    "\n",
    "            #print(f\"Simulation {sim + 1}, Number of Trees: {num_trees}, Number of Burnt Trees: {burnt_trees}, \"f\"Number of Grey Nodes: {num_grey_nodes}, Number of Empty Space: {empty_space}\")\n",
    "\n",
    "    return total_burnt_trees, total_grey_nodes\n",
    "\n",
    "seed_value = 230293944\n",
    "np.random.seed(seed_value)\n",
    "\n",
    "# Assuming 'df' is your DataFrame with 'Source' and 'Target' columns\n",
    "G = nx.from_pandas_edgelist(df, source='Source', target='Target')\n",
    "G_undirected = G.to_undirected()\n",
    "\n",
    "# Ensure the graph is connected\n",
    "if not nx.is_connected(G_undirected):\n",
    "    #print(\"Graph is not connected. Making it connected...\")\n",
    "    components = list(nx.connected_components(G_undirected))\n",
    "    largest_component = max(components, key=len)\n",
    "    G_undirected = G_undirected.subgraph(largest_component).copy()\n",
    "\n",
    "tree_probability = 0.6\n",
    "num_simulations = 50\n",
    "\n",
    "# Simulate fire with random grey nodes fraction\n",
    "grey_nodes_fraction = np.random.uniform(0.0, 1.0)  # Adjust the range as needed\n",
    "burnt_trees_with_grey, grey_nodes_with_grey = simulate_forest_fire(G_undirected, tree_probability, grey_nodes_fraction, num_simulations)\n",
    "\n",
    "# Simulate fire without grey nodes for comparison\n",
    "burnt_trees_without_grey, _ = simulate_forest_fire(G_undirected, tree_probability, 0, num_simulations)\n",
    "\n",
    "# Calculate the minimum fraction of grey nodes needed to prevent the fire from spreading through the whole network\n",
    "success_rate = np.sum(burnt_trees_with_grey < burnt_trees_without_grey) / num_simulations\n",
    "print(f\"Minimum fraction of grey nodes: {success_rate}\")\n",
    "\n",
    "# Calculate average number of burnt trees and grey nodes in each simulation\n",
    "#average_burnt_trees_per_simulation = np.mean(burnt_trees_with_grey)\n",
    "#average_grey_nodes_per_simulation = np.mean(grey_nodes_with_grey)\n",
    "\n"
   ]
  },
  {
   "cell_type": "markdown",
   "id": "7f4d3f29",
   "metadata": {},
   "source": [
    "## 2. (20 Marks) Consider the Voter Model as explained in the lectures."
   ]
  },
  {
   "cell_type": "markdown",
   "id": "5adf55c6",
   "metadata": {},
   "source": [
    "### a) (8 marks) Using an asynchronous update rule, present a plot of the number of steps it takes on  average for the whole network to reach consensus against the probability of linking 𝑝 for 𝐺(𝑁, 𝑝) networks with 𝑁 = 50. In the initial configuration, each voter has the same probability of having one of the two possible opinions. Analyse your result by relating the time it takes to how the probability of linking defines the connections in the network model used in this exercise."
   ]
  },
  {
   "cell_type": "code",
   "execution_count": 9,
   "id": "7f9c3704",
   "metadata": {},
   "outputs": [
    {
     "data": {
      "image/png": "[encoded data removed]",
      "text/plain": [
       "<Figure size 1200x800 with 1 Axes>"
      ]
     },
     "metadata": {},
     "output_type": "display_data"
    }
   ],
   "source": [
    "import random as rm\n",
    "import matplotlib.pyplot as plt\n",
    "\n",
    "def disagreement(graph, states):\n",
    "    rho = 0\n",
    "    for e in graph.edges():\n",
    "        rho += (1 - states[e[0]] * states[e[1]]) / 2\n",
    "\n",
    "    return rho / len(graph.edges())\n",
    "\n",
    "def prob_flip(graph, states, node):\n",
    "    n = list(graph.neighbors(node))\n",
    "    nn = 0\n",
    "    for v in n:\n",
    "        nn += (1 - states[node] * states[v]) / 2\n",
    "\n",
    "    return nn / len(n)\n",
    "\n",
    "def asynchronous_update(graph, states):\n",
    "    node_to_update = rm.choice(list(graph.nodes))\n",
    "\n",
    "    if rm.random() < prob_flip(graph, states, node_to_update):\n",
    "        states[node_to_update] = -states[node_to_update]\n",
    "\n",
    "rm.seed(230293944)\n",
    "\n",
    "N = 50\n",
    "p = 0.1  \n",
    "G = nx.erdos_renyi_graph(N, p)\n",
    "V = G.nodes()\n",
    "nodes_list = list(V)\n",
    "\n",
    "T = 100\n",
    "num_simulations = 50\n",
    "\n",
    "# Store for each simulation\n",
    "all_rho = []\n",
    "\n",
    "for _ in range(num_simulations):\n",
    "    opinions = {v: -1 if rm.random() < 0.5 else 1 for v in V}\n",
    "    rho = [disagreement(G, opinions)]\n",
    "\n",
    "    for t in range(T):\n",
    "        for v in nodes_list:\n",
    "            asynchronous_update(G, opinions)\n",
    "\n",
    "        rho.append(disagreement(G, opinions))\n",
    "\n",
    "    all_rho.append(rho)\n",
    "\n",
    "# Calculate average disagreement values\n",
    "avg_rho = np.mean(all_rho, axis=0)\n",
    "\n",
    "# Plot the average results\n",
    "plt.figure(figsize=(12, 8))\n",
    "plt.plot(range(T + 1), avg_rho, marker='o')\n",
    "plt.title(f'Average Time with Asynchronous')\n",
    "plt.xlabel('Time Steps')\n",
    "plt.ylabel('Average Probability')\n",
    "plt.grid(True)\n",
    "plt.show()\n"
   ]
  },
  {
   "cell_type": "markdown",
   "id": "f2fd7950",
   "metadata": {},
   "source": [
    "### b) (10 marks) Run the model on a single Barabasi-Albert network with 𝑁 = 200 nodes with synchronous update and initial configuration with every site having the same probability of having one of the two possible opinions. You do not need to average over many generated networks. Find out what is more efficient to prevent or slow down consensus: random removal of links or simultaneous targeted removal of links based on their betweenness. Try to explain the observed  differences in the results by relating them to the differences between the two processes.\n"
   ]
  },
  {
   "cell_type": "code",
   "execution_count": 10,
   "id": "880fe676",
   "metadata": {},
   "outputs": [
    {
     "data": {
      "image/png": "[encoded data removed]",
      "text/plain": [
       "<Figure size 1200x400 with 1 Axes>"
      ]
     },
     "metadata": {},
     "output_type": "display_data"
    }
   ],
   "source": [
    "np.random.seed(230293944)\n",
    "\n",
    "def initialize_opinions(G):\n",
    "    # Initialize opinions randomly for nodes\n",
    "    return {node: -1 if np.random.rand() < 0.5 else 1 for node in G.nodes()}\n",
    "\n",
    "def synchronous_update(G, opinions):\n",
    "    new_opinions = opinions.copy()\n",
    "    \n",
    "    for node in G.nodes():\n",
    "        neighbors = list(G.neighbors(node))\n",
    "        # Update opinion based on the majority opinion\n",
    "        sum_opinions = sum(opinions[neighbor] for neighbor in neighbors)\n",
    "        new_opinions[node] = 1 if sum_opinions >= 0 else -1\n",
    "\n",
    "    return new_opinions\n",
    "\n",
    "def disagreement(graph, states):\n",
    "    rho = 0\n",
    "    for edge in graph.edges():\n",
    "        rho += (1 - states[edge[0]] * states[edge[1]]) / 2\n",
    "    return rho / len(graph.edges())\n",
    "\n",
    "N = 200\n",
    "m = 2  # Barabasi-Albert parameter\n",
    "\n",
    "\n",
    "G = nx.barabasi_albert_graph(N, m)# Generate Barabasi-Albert network\n",
    "\n",
    "\n",
    "num_simulations = 50 # Number of simulations\n",
    "\n",
    "T = 40\n",
    "avg_disagreement_values = np.zeros(T + 1)\n",
    "\n",
    "# Perform 50 simulations\n",
    "for sim in range(num_simulations):\n",
    "    # Initialize opinions for each simulation\n",
    "    opinions = initialize_opinions(G)\n",
    "\n",
    "    disagreement_values = [disagreement(G, opinions)]\n",
    "\n",
    "    # Simulate synchronous updates\n",
    "    for t in range(T):\n",
    "        opinions = synchronous_update(G, opinions)\n",
    "        disagreement_values.append(disagreement(G, opinions))\n",
    "\n",
    "    # Aggregate results\n",
    "    avg_disagreement_values += np.array(disagreement_values)\n",
    "\n",
    "# Calculate average disagreement values\n",
    "avg_disagreement_values /= num_simulations\n",
    "\n",
    "\n",
    "# Plot average disagreement over time\n",
    "plt.figure(figsize=(12, 4))\n",
    "plt.plot(range(T + 1), avg_disagreement_values, marker='o')\n",
    "plt.title('Average opinion vs Time steps')\n",
    "plt.xlabel('Time Steps')\n",
    "plt.ylabel('Avg Opinion')\n",
    "plt.grid(True)\n",
    "plt.margins(x=0)\n",
    "plt.show()\n"
   ]
  },
  {
   "cell_type": "code",
   "execution_count": 11,
   "id": "a739574d",
   "metadata": {},
   "outputs": [
    {
     "name": "stdout",
     "output_type": "stream",
     "text": [
      "Average Metrics for Random Link Removal:\n",
      "Average Degree: 3.5699999999999954\n",
      "Average Clustering: 0.06514107726697967\n",
      "Largest Connected Component: 198.9\n",
      "\n",
      "Average Metrics for Targeted Link Removal:\n",
      "Average Degree: 3.8600000000000048\n",
      "Average Clustering: 0.06244287377707681\n",
      "Largest Connected Component: 200.0\n"
     ]
    }
   ],
   "source": [
    "np.random.seed(230293944)\n",
    "\n",
    "def random_link_removal(G, p):\n",
    "    edges_to_remove = np.random.choice(range(G.number_of_edges()), int(p * G.number_of_edges()), replace=False)\n",
    "    edges_to_remove = [list(G.edges())[edge] for edge in edges_to_remove]\n",
    "    \n",
    "    G_removed = G.copy()\n",
    "    G_removed.remove_edges_from(edges_to_remove)\n",
    "    return G_removed\n",
    "\n",
    "# Simulate targeted link removal based on betweenness centrality\n",
    "def targeted_link_removal(G, k):\n",
    "    betweenness = nx.edge_betweenness_centrality(G)\n",
    "    sorted_edges = sorted(betweenness.items(), key=lambda x: x[1], reverse=True)\n",
    "    edges_to_remove = [edge for edge, _ in sorted_edges[:k]]\n",
    "    \n",
    "    G_removed = G.copy()\n",
    "    G_removed.remove_edges_from(edges_to_remove)\n",
    "    return G_removed\n",
    "\n",
    "# network metrics\n",
    "def calculate_metrics(G):\n",
    "    average_degree = np.mean(list(dict(G.degree()).values()))\n",
    "    average_clustering = nx.average_clustering(G)\n",
    "    largest_connected_component = len(max(nx.connected_components(G), key=len))\n",
    "    \n",
    "    return average_degree, average_clustering, largest_connected_component\n",
    "\n",
    "# Set parameters\n",
    "p_random = 0.1  # Fraction of edges to be removed randomly\n",
    "k_targeted = 10  # Number of edges to be removed based on betweenness centrality\n",
    "num_simulations = 50\n",
    "\n",
    "# Lists to store metrics for each step\n",
    "metrics_random = np.zeros((num_simulations, 3))\n",
    "metrics_targeted = np.zeros((num_simulations, 3))\n",
    "\n",
    "# Run simulations\n",
    "for i in range(num_simulations):\n",
    "    # Simulate random link removal\n",
    "    G_random_removed = random_link_removal(G, p_random)\n",
    "    metrics_random[i, :] = calculate_metrics(G_random_removed)\n",
    "    \n",
    "    # Simulate targeted link removal\n",
    "    G_targeted_removed = targeted_link_removal(G, k_targeted)\n",
    "    metrics_targeted[i, :] = calculate_metrics(G_targeted_removed)\n",
    "\n",
    "# Calculate average metrics\n",
    "avg_metrics_random = np.mean(metrics_random, axis=0)\n",
    "avg_metrics_targeted = np.mean(metrics_targeted, axis=0)\n",
    "\n",
    "# Print average metrics for random link removal\n",
    "print(\"Average Metrics for Random Link Removal:\")\n",
    "print(f\"Average Degree: {avg_metrics_random[0]}\")\n",
    "print(f\"Average Clustering: {avg_metrics_random[1]}\")\n",
    "print(f\"Largest Connected Component: {avg_metrics_random[2]}\")\n",
    "\n",
    "# Print average metrics for targeted link removal\n",
    "print(\"\\nAverage Metrics for Targeted Link Removal:\")\n",
    "print(f\"Average Degree: {avg_metrics_targeted[0]}\")\n",
    "print(f\"Average Clustering: {avg_metrics_targeted[1]}\")\n",
    "print(f\"Largest Connected Component: {avg_metrics_targeted[2]}\")\n"
   ]
  },
  {
   "cell_type": "markdown",
   "id": "0ac7e41e",
   "metadata": {},
   "source": [
    "Average Degree: The network exhibits an average degree of approximately 3.57, signifying that, on average, each node maintains connections with about 3.57 other nodes. In contrast, targeted link removal results in an increased average degree of around 3.86, indicating a higher level of overall connectivity for each node.\n",
    "\n",
    "Average Clustering: The impact of random link removal is reflected in a moderate average clustering coefficient of 0.06514, indicating the presence of local clustering within the network. Conversely, targeted link removal yields a slightly lower average clustering coefficient of 0.06244, suggesting a potential reduction in local clustering or the formation of less tightly interconnected groups of nodes.\n",
    "\n",
    "Largest Connected Component: Both random and targeted link removal strategies maintain relatively large connected components, comprising 198.9 and 200.0 nodes, respectively. This observation underscores the robustness of both approaches in preserving a substantial cohesive subnetwork within the overarching network structure."
   ]
  },
  {
   "cell_type": "markdown",
   "id": "c7be46db",
   "metadata": {},
   "source": [
    "If we talk about in most general situations,\n",
    "\n",
    "Random removal of links - Links are removed without any consideration of their structure or their importance in the network. And probability of removal is equal for every single node throughout the network.There may be the case when node which play as bridge between 2 parts are remove then it cause isolation for small clusters.\n",
    "- This method may yield isolated nodes or clusters, yet its impact on consensus hinges on the network's redundancy.\n",
    "- In networks with many available alternative paths, the impact of randomly removing links tends to be less disruptive. This is because the presence of alternative routes allows the network to compensate for the gaps created by the removal of links.\n",
    "\n",
    "\n",
    "Targeted Removal of Links Based on Betweenness - Betweenness quantifies the frequency with which a node or link serves as a crucial intermediary on the shortest paths between pairs of other nodes. In the context of targeted removing nodes, this involves the simultaneous identification and elimination of links that exhibit high betweenness centrality. \n",
    "- Elimination of links with elevated betweenness centrality can exert a pronounced influence on consensus dynamics. Such links often function as pivotal bridges or bottlenecks through which information flows efficiently. Their removal introduces disruptions to the seamless communication between diverse segments of the network, potentially introducing delays to the consensus-building process.\n",
    "- Targeted removal disrupts critical pathways that are essential for efficient information flow.\n",
    "\n",
    "In conclusion, the more effective way to prevent or slowdown the consensus is by implementing simultaneous target removal of links based on their betweenness. Targeted removal, characterized by its precision and focuses on structurally significant links, may outperform the nature of random removal, targeted removal proving more potent in networks where specific links play pivotal roles in shaping consensus,making it more efficient for prevent or slowdown to reach consensus."
   ]
  },
  {
   "cell_type": "markdown",
   "id": "ec41aa1d",
   "metadata": {},
   "source": [
    "### c) (2 marks) Ask ChatGPT (with the prompt you find most appropriate) what is the importance of the Max-flow Min-cut Theorem and analyse its answer explaining whether it agrees with what we studied in our lectures and what could be missing on it."
   ]
  },
  {
   "cell_type": "markdown",
   "id": "88d99946",
   "metadata": {},
   "source": [
    "CHATGPT\n",
    "The Max-flow Min-cut Theorem holds significant importance in network flow theory and graph theory, offering a fundamental understanding of flow optimization in various applications. Here are some key points highlighting its importance:\n",
    "\n",
    "Network Flow Optimization: The Max-flow Min-cut Theorem is a cornerstone in network flow optimization problems.\n",
    "It provides a theoretical foundation for finding the maximum flow in a network, which represents the maximum amount of goods, information, or resources that can be transferred through the network.\n",
    "\n",
    "Algorithmic Applications: The Max-flow Min-cut Theorem has inspired the development of efficient algorithms to find the maximum flow in a network, such as the Ford-Fulkerson algorithm.These algorithms have wide-ranging applications in solving real-world optimization problems, including transportation networks, communication networks, and resource allocation.\n",
    "\n",
    "    Transportation Networks: In transportation networks, the theorem helps optimize the flow of goods or vehicles from source to destination. It aids in determining the most efficient way to transport resources, considering capacity constraints in different segments of the network.\n",
    "\n",
    "    Communication Networks: In communication networks, the theorem is relevant for optimizing data transmission, ensuring efficient routing of information.\n",
    "    It assists in designing communication networks with minimal congestion and maximum data transfer capacity.\n",
    "\n",
    "    Resource Allocation: The Max-flow Min-cut Theorem is applicable to resource allocation problems where resources need to be distributed optimally. It helps in determining the critical points (minimum cut) that, if disrupted, would limit the overall flow of resources through the network.\n",
    "\n",
    "Computer Networks: The theorem finds applications in computer networks, guiding the design and optimization of data flow.\n",
    "It contributes to ensuring reliable and efficient data transmission in computer systems.\n",
    "\n",
    "In summary, the Max-flow Min-cut Theorem is of paramount importance in the field of network flow optimization, providing both theoretical insights and practical algorithms with diverse applications across various domains. Its understanding is crucial for designing efficient and resilient network systems.\n",
    "\n",
    "\n",
    "\n",
    "MAX-FLOW MIN-CUT\n",
    "\n",
    "In every flow network with source s and target t, the value of the maximum (s, t)-flow is equal to the capacity of the\n",
    "minimum (s, t)-cut.\n",
    "For any (G,s,t, c) the value of the max flow f∗ is equal to the capacity of the min (S,T)-cut (over all s − t cuts in G)\n",
    "$$f^∗ = max{|f|} = min_{∀(S,T)} {c(S,T)}$$\n",
    "\n",
    "With the help of example, where we have source and sink with multiple links with capacity and nodes. Cutsize is the amount of flow travelling from source to sink. In order to find the most efficient way, it will divide its weight in the links (according to link's capacity) so at the end of sink, the cutsize remains will same size as of the begining of source.\n",
    "\n",
    "\n",
    "In  order to comparision between above answer and module, ChatGPT provide elaborated theoretical answers with focus on wide range of applications of it. The above does agree with what we have learned in our module. Application for transportation networks and resource allocation provide give us the better visuals in order to understand this. In Max-flow Min-cut, our focus is on \n",
    " - Optimization : With help of this theorem, we can optimaly determines the most efficient method in real dynamic world problem like project allocation.\n",
    " - Capacity - Identifying bottlenecks and determining the maximum amount of flow a network can support. This is essential for designing efficient systems and ensuring that resources are allocated effectively.\n",
    "\n",
    "\n",
    "REFERENCE\n",
    "\n",
    "https://jeffe.cs.illinois.edu/teaching/algorithms/book/10-maxflow.pdf"
   ]
  }
 ],
 "metadata": {
  "kernelspec": {
   "display_name": "Python 3 (ipykernel)",
   "language": "python",
   "name": "python3"
  },
  "language_info": {
   "codemirror_mode": {
    "name": "ipython",
    "version": 3
   },
   "file_extension": ".py",
   "mimetype": "text/x-python",
   "name": "python",
   "nbconvert_exporter": "python",
   "pygments_lexer": "ipython3",
   "version": "3.11.5"
  }
 },
 "nbformat": 4,
 "nbformat_minor": 5
}
